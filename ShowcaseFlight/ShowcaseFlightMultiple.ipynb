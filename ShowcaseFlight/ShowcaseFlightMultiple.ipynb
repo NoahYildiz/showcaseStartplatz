{
 "cells": [
  {
   "cell_type": "markdown",
   "metadata": {},
   "source": [
    "## GPT3.5 Function Calling am Beispiel von einer Flugabfrage mit mehreren Funktionen"
   ]
  },
  {
   "cell_type": "code",
   "execution_count": 4,
   "metadata": {},
   "outputs": [],
   "source": [
    "# --------------------------------------------------------------\n",
    "# Import Modules\n",
    "# --------------------------------------------------------------\n",
    "\n",
    "import os\n",
    "import json\n",
    "import openai\n",
    "from datetime import datetime, timedelta\n",
    "from dotenv import load_dotenv\n",
    "from langchain.chat_models import ChatOpenAI\n",
    "from langchain.schema import HumanMessage, AIMessage, ChatMessage\n",
    "\n"
   ]
  },
  {
   "cell_type": "code",
   "execution_count": 5,
   "metadata": {},
   "outputs": [],
   "source": [
    "\n",
    "# --------------------------------------------------------------\n",
    "# Load OpenAI API Token From the .env File\n",
    "# --------------------------------------------------------------\n",
    "\n",
    "load_dotenv()\n",
    "openai.api_key = os.getenv(\"OPENAI_API_KEY\")\n",
    "\n"
   ]
  },
  {
   "cell_type": "markdown",
   "metadata": {},
   "source": [
    "### Ein einfaches Function Calling Beispiel"
   ]
  },
  {
   "cell_type": "code",
   "execution_count": 7,
   "metadata": {},
   "outputs": [
    {
     "name": "stdout",
     "output_type": "stream",
     "text": [
      "[{'name': 'get_flight_info', 'description': 'Get flight information between two locations', 'parameters': {'type': 'object', 'properties': {'loc_origin': {'type': 'string', 'description': 'The departure airport, e.g. DUS'}, 'loc_destination': {'type': 'string', 'description': 'The destination airport, e.g. HAM'}}, 'required': ['loc_origin', 'loc_destination']}}, {'name': 'book_flight', 'description': 'Book a flight based on flight information', 'parameters': {'type': 'object', 'properties': {'loc_origin': {'type': 'string', 'description': 'The departure airport, e.g. DUS'}, 'loc_destination': {'type': 'string', 'description': 'The destination airport, e.g. HAM'}, 'datetime': {'type': 'string', 'description': 'The date and time of the flight, e.g. 2023-01-01 01:01'}, 'airline': {'type': 'string', 'description': 'The service airline, e.g. Lufthansa'}}, 'required': ['loc_origin', 'loc_destination', 'datetime', 'airline']}}, {'name': 'file_complaint', 'description': 'File a complaint as a customer', 'parameters': {'type': 'object', 'properties': {'name': {'type': 'string', 'description': 'The name of the user, e.g. John Doe'}, 'email': {'type': 'string', 'description': 'The email address of the user, e.g. john@doe.com'}, 'text': {'type': 'string', 'description': 'Description of issue'}}, 'required': ['name', 'email', 'text']}}]\n"
     ]
    }
   ],
   "source": [
    "# Hier nutzen wir 3 Funktionen\n",
    "function_descriptions_multiple = [\n",
    "    {\n",
    "        \"name\": \"get_flight_info\",\n",
    "        \"description\": \"Get flight information between two locations\",\n",
    "        \"parameters\": {\n",
    "            \"type\": \"object\",\n",
    "            \"properties\": {\n",
    "                \"loc_origin\": {\n",
    "                    \"type\": \"string\",\n",
    "                    \"description\": \"The departure airport, e.g. DUS\",\n",
    "                },\n",
    "                \"loc_destination\": {\n",
    "                    \"type\": \"string\",\n",
    "                    \"description\": \"The destination airport, e.g. HAM\",\n",
    "                },\n",
    "            },\n",
    "            \"required\": [\"loc_origin\", \"loc_destination\"],\n",
    "        },\n",
    "    },\n",
    "    {\n",
    "        \"name\": \"book_flight\",\n",
    "        \"description\": \"Book a flight based on flight information\",\n",
    "        \"parameters\": {\n",
    "            \"type\": \"object\",\n",
    "            \"properties\": {\n",
    "                \"loc_origin\": {\n",
    "                    \"type\": \"string\",\n",
    "                    \"description\": \"The departure airport, e.g. DUS\",\n",
    "                },\n",
    "                \"loc_destination\": {\n",
    "                    \"type\": \"string\",\n",
    "                    \"description\": \"The destination airport, e.g. HAM\",\n",
    "                },\n",
    "                \"datetime\": {\n",
    "                    \"type\": \"string\",\n",
    "                    \"description\": \"The date and time of the flight, e.g. 2023-01-01 01:01\",\n",
    "                },\n",
    "                \"airline\": {\n",
    "                    \"type\": \"string\",\n",
    "                    \"description\": \"The service airline, e.g. Lufthansa\",\n",
    "                },\n",
    "            },\n",
    "            \"required\": [\"loc_origin\", \"loc_destination\", \"datetime\", \"airline\"],\n",
    "        },\n",
    "    },\n",
    "    {\n",
    "        \"name\": \"file_complaint\",\n",
    "        \"description\": \"File a complaint as a customer\",\n",
    "        \"parameters\": {\n",
    "            \"type\": \"object\",\n",
    "            \"properties\": {\n",
    "                \"name\": {\n",
    "                    \"type\": \"string\",\n",
    "                    \"description\": \"The name of the user, e.g. John Doe\",\n",
    "                },\n",
    "                \"email\": {\n",
    "                    \"type\": \"string\",\n",
    "                    \"description\": \"The email address of the user, e.g. john@doe.com\",\n",
    "                },\n",
    "                \"text\": {\n",
    "                    \"type\": \"string\",\n",
    "                    \"description\": \"Description of issue\",\n",
    "                },\n",
    "            },\n",
    "            \"required\": [\"name\", \"email\", \"text\"],\n",
    "        },\n",
    "    },\n",
    "]\n",
    "\n",
    "def get_flight_info(loc_origin, loc_destination):\n",
    "    \"\"\"Get flight information between two locations.\"\"\"\n",
    "\n",
    "    # Beispiel Ausgabe einer API oder Datenbank\n",
    "    flight_info = {\n",
    "        \"loc_origin\": loc_origin,\n",
    "        \"loc_destination\": loc_destination,\n",
    "        \"datetime\": str(datetime.now() + timedelta(hours=2)),\n",
    "        \"airline\": \"KLM\",\n",
    "        \"flight\": \"KL643\",\n",
    "    }\n",
    "\n",
    "    return json.dumps(flight_info)\n",
    "\n"
   ]
  },
  {
   "cell_type": "code",
   "execution_count": null,
   "metadata": {},
   "outputs": [],
   "source": [
    "def ask_and_reply(prompt): #Vereinfachter LLM Aufruf\n",
    "\n",
    "    completion = openai.ChatCompletion.create(\n",
    "        model=\"gpt-3.5-turbo-0613\",\n",
    "        messages=[{\"role\": \"user\", \"content\": prompt}],\n",
    "    \n",
    "        functions=function_descriptions_multiple, # add function calling\n",
    "        function_call=\"auto\",\n",
    "    )\n",
    "\n",
    "    output = completion.choices[0].message\n",
    "    return output"
   ]
  },
  {
   "cell_type": "markdown",
   "metadata": {},
   "source": [
    "### Scenario 1: Check flight details"
   ]
  },
  {
   "cell_type": "code",
   "execution_count": 12,
   "metadata": {},
   "outputs": [
    {
     "name": "stdout",
     "output_type": "stream",
     "text": [
      "{\n",
      "  \"role\": \"assistant\",\n",
      "  \"content\": null,\n",
      "  \"function_call\": {\n",
      "    \"name\": \"get_flight_info\",\n",
      "    \"arguments\": \"{\\n  \\\"loc_origin\\\": \\\"AMS\\\",\\n  \\\"loc_destination\\\": \\\"DUS\\\"\\n}\"\n",
      "  }\n",
      "}\n"
     ]
    }
   ],
   "source": [
    "\n",
    "user_prompt = \"When's the next flight from Amsterdam to Düsseldorf?\"\n",
    "\n",
    "output = ask_and_reply(user_prompt)\n",
    "\n",
    "print(output)\n"
   ]
  },
  {
   "cell_type": "code",
   "execution_count": 15,
   "metadata": {},
   "outputs": [
    {
     "name": "stdout",
     "output_type": "stream",
     "text": [
      "{\"loc_origin\": \"AMS\", \"loc_destination\": \"DUS\", \"datetime\": \"2023-09-28 16:24:42.265970\", \"airline\": \"KLM\", \"flight\": \"KL643\"}\n",
      "AMS\n",
      "DUS\n",
      "2023-09-28 16:24:42.265970\n",
      "KLM\n"
     ]
    }
   ],
   "source": [
    "\n",
    "# Extrahiere Informationen\n",
    "\n",
    "origin = json.loads(output.function_call.arguments).get(\"loc_origin\")\n",
    "destination = json.loads(output.function_call.arguments).get(\"loc_destination\")\n",
    "\n",
    "\n",
    "#Rufe Funktion auf\n",
    "chosen_function = eval(output.function_call.name)   # Wichtig: Hier wird der Text zu einer Funktion umgewandelt\n",
    "flight = chosen_function(origin, destination)  \n",
    "\n",
    "#\n",
    "flight_datetime = json.loads(flight).get(\"datetime\")    \n",
    "flight_airline = json.loads(flight).get(\"airline\")\n",
    "\n",
    "\n",
    "print(flight)\n",
    "\n",
    "print(origin)\n",
    "print(destination)\n",
    "print(flight_datetime)\n",
    "print(flight_airline)\n",
    "\n"
   ]
  },
  {
   "cell_type": "markdown",
   "metadata": {},
   "source": [
    "### Scenario 2: Book a new flight"
   ]
  },
  {
   "cell_type": "code",
   "execution_count": null,
   "metadata": {},
   "outputs": [],
   "source": [
    "\n",
    "user_prompt = f\"I want to book a flight from {origin} to {destination} on {flight_datetime} with {flight_airline}\"\n",
    "print(ask_and_reply(user_prompt))\n"
   ]
  },
  {
   "cell_type": "markdown",
   "metadata": {},
   "source": [
    "### Scenario 3: File a complaint"
   ]
  },
  {
   "cell_type": "code",
   "execution_count": null,
   "metadata": {},
   "outputs": [],
   "source": [
    "user_prompt = \"This is John Doe. I want to file a complaint about my missed flight. It was an unpleasant surprise. Email me a copy of the complaint to john@doe.com.\"\n",
    "print(ask_and_reply(user_prompt))"
   ]
  },
  {
   "cell_type": "markdown",
   "metadata": {},
   "source": [
    "## Verpacken in eine Konversation mit Langchain"
   ]
  },
  {
   "cell_type": "markdown",
   "metadata": {},
   "source": [
    "Wir haben gesehen, wie man Funktionen aufrufen kann und das GPT3.5 diese Funktionen mit den korrekten Parametern aufrufen kann. <br>\n",
    "Im Folgenden wollen wir uns anschauen, wie wir das in eine Konversation einbauen können, mit der man Applikationen bauen kann."
   ]
  },
  {
   "cell_type": "code",
   "execution_count": 27,
   "metadata": {},
   "outputs": [],
   "source": [
    "function_descriptions_multiple = [\n",
    "    {\n",
    "        \"name\": \"get_flight_info\",\n",
    "        \"description\": \"Abrufen von Fluginformationen zwischen zwei Flughafen Locations\",\n",
    "        \"parameters\": {\n",
    "            \"type\": \"object\",\n",
    "            \"properties\": {\n",
    "                \"loc_origin\": {\n",
    "                    \"type\": \"string\",\n",
    "                    \"description\": \"Der Start Flughafen, e.g. DUS\",\n",
    "                },\n",
    "                \"loc_destination\": {\n",
    "                    \"type\": \"string\",\n",
    "                    \"description\": \"Der Ziel Flughafen, e.g. HAM\",\n",
    "                },\n",
    "            },\n",
    "            \"required\": [\"loc_origin\", \"loc_destination\"],\n",
    "        },\n",
    "    },\n",
    "    {\n",
    "        \"name\": \"book_flight\",\n",
    "        \"description\": \"Buche einen Flug anhand von Fluginformationen\",\n",
    "        \"parameters\": {\n",
    "            \"type\": \"object\",\n",
    "            \"properties\": {\n",
    "                \"loc_origin\": {\n",
    "                    \"type\": \"string\",\n",
    "                    \"description\": \"Der Start Flughafen, e.g. DUS\",\n",
    "                },\n",
    "                \"loc_destination\": {\n",
    "                    \"type\": \"string\",\n",
    "                    \"description\": \"Der Ziel Flughafen, e.g. HAM\",\n",
    "                },\n",
    "                \"datetime\": {\n",
    "                    \"type\": \"string\",\n",
    "                    \"description\": \"Das Datum und die Uhrzeit des Fluges, e.g. 2023-01-01 01:01\",\n",
    "                },\n",
    "                \"airline\": {\n",
    "                    \"type\": \"string\",\n",
    "                    \"description\": \"Die Fluggesellschaft mit der geflogen wird, e.g. Lufthansa\",\n",
    "                },\n",
    "            },\n",
    "            \"required\": [\"loc_origin\", \"loc_destination\", \"datetime\", \"airline\"],\n",
    "        },\n",
    "    },\n",
    "    {\n",
    "        \"name\": \"file_complaint\",\n",
    "        \"description\": \"Als Kunde eine Beschwerde einreichen\",\n",
    "        \"parameters\": {\n",
    "            \"type\": \"object\",\n",
    "            \"properties\": {\n",
    "                \"name\": {\n",
    "                    \"type\": \"string\",\n",
    "                    \"description\": \"Der Name des Benutzers, e.g. John Doe\",\n",
    "                },\n",
    "                \"email\": {\n",
    "                    \"type\": \"string\",\n",
    "                    \"description\": \"Die Email Adresse des Benutzers, e.g. john@doe.com\",\n",
    "                },\n",
    "                \"text\": {\n",
    "                    \"type\": \"string\",\n",
    "                    \"description\": \"Beschreibung des Problems\",\n",
    "                },\n",
    "            },\n",
    "            \"required\": [\"name\", \"email\", \"text\"],\n",
    "        },\n",
    "    },\n",
    "]"
   ]
  },
  {
   "cell_type": "code",
   "execution_count": 35,
   "metadata": {},
   "outputs": [],
   "source": [
    "llm = ChatOpenAI(model=\"gpt-3.5-turbo-0613\", temperature=0)\n",
    "\n",
    "\n",
    "user_prompt = \"\"\"\n",
    "Hallo hier ist Noah Yildiz. Ich bin ein sehr unzufriedener Kunde und möchte das du mehrere Dinge für mich tust.\n",
    "Zuerst muss ich wissen, wann der nächste Flug von Düsseldorf nach New York geht.\n",
    "Bitte buche diesen Flug für mich.\n",
    "Außerdem möchte ich eine Beschwerde über meinen verpassten Flug einreichen. Ich hoffe sehr das sowas nicht nochmal passiert. \n",
    "Schicken mir eine Kopie der Beschwerde an noah@ye-d.de.\n",
    "Bitte gebe mir auch eine Bestätigung, wenn du alle diese Schritte abgeschlossen hast.\n",
    "\"\"\"\n"
   ]
  },
  {
   "cell_type": "markdown",
   "metadata": {},
   "source": [
    "Erste Antwort <br>\n",
    "Gibt die Funktion von der ersten Anfrage zurück (get_flight_info)"
   ]
  },
  {
   "cell_type": "code",
   "execution_count": 29,
   "metadata": {},
   "outputs": [
    {
     "name": "stdout",
     "output_type": "stream",
     "text": [
      "content='' additional_kwargs={'function_call': {'name': 'get_flight_info', 'arguments': '{\\n  \"loc_origin\": \"DUS\",\\n  \"loc_destination\": \"JFK\"\\n}'}} example=False\n"
     ]
    }
   ],
   "source": [
    "first_response = llm.predict_messages(\n",
    "    [HumanMessage(content=user_prompt)], functions=function_descriptions_multiple\n",
    ")\n",
    "\n",
    "print(first_response)\n",
    "print(\"Aufgerufene Funktion: \" + first_response.additional_kwargs[\"function_call\"][\"name\"])"
   ]
  },
  {
   "cell_type": "markdown",
   "metadata": {},
   "source": [
    "Zweite Antwort <br>\n",
    "Gibt die Funktion von der zweiten Anfrage zurück (book_flight). <br>\n",
    "(Der Einfachheit halber rufen wir die Funktion nicht auf sondern nehmen nur die Werte mit denen die Funktion aufgerufen wird.)"
   ]
  },
  {
   "cell_type": "code",
   "execution_count": 30,
   "metadata": {},
   "outputs": [
    {
     "name": "stdout",
     "output_type": "stream",
     "text": [
      "content='' additional_kwargs={'function_call': {'name': 'book_flight', 'arguments': '{\\n  \"loc_origin\": \"DUS\",\\n  \"loc_destination\": \"JFK\",\\n  \"datetime\": \"2023-01-01 12:00\",\\n  \"airline\": \"Lufthansa\"\\n}'}} example=False\n"
     ]
    }
   ],
   "source": [
    "second_response = llm.predict_messages(\n",
    "    [\n",
    "        HumanMessage(content=user_prompt),\n",
    "        AIMessage(content=str(first_response.additional_kwargs)), #Side Info hier: \"role\" muss hier nicht mehr definiert werden\n",
    "        AIMessage(\n",
    "            role=\"function\",\n",
    "            additional_kwargs={\n",
    "                \"name\": first_response.additional_kwargs[\"function_call\"][\"name\"]\n",
    "            },\n",
    "            content=f\"Completed function {first_response.additional_kwargs['function_call']['name']}\",\n",
    "        ),\n",
    "    ],\n",
    "    functions=function_descriptions_multiple,\n",
    ")\n",
    "\n",
    "print(second_response)\n",
    "print(\"Aufgerufene Funktion: \" + second_response.additional_kwargs[\"function_call\"][\"name\"])\n"
   ]
  },
  {
   "cell_type": "markdown",
   "metadata": {},
   "source": [
    "Dritte Antwort <br>\n",
    "Gibt die Funktion der dritten Anfrage zurück (file_complaint)"
   ]
  },
  {
   "cell_type": "code",
   "execution_count": 34,
   "metadata": {},
   "outputs": [
    {
     "name": "stdout",
     "output_type": "stream",
     "text": [
      "content='{\\'function_call\\': {\\'name\\': \\'file_complaint\\', \\'arguments\\': \\'{\\\\n  \"name\": \"Noah Yildiz\",\\\\n  \"email\": \"jane@harris.com\",\\\\n  \"text\": \"I would like to file a complaint about my missed flight.\"\\\\n}\\'}}' additional_kwargs={'function_call': {'name': 'file_complaint', 'arguments': '{\\n  \"name\": \"Noah Yildiz\",\\n  \"email\": \"jane@harris.com\",\\n  \"text\": \"I would like to file a complaint about my missed flight.\"\\n}'}} example=False\n",
      "Aufgerufene Funktion: file_complaint\n"
     ]
    }
   ],
   "source": [
    "third_response = llm.predict_messages(\n",
    "    [\n",
    "        HumanMessage(content=user_prompt),\n",
    "        AIMessage(content=str(first_response.additional_kwargs)),\n",
    "        AIMessage(content=str(second_response.additional_kwargs)),\n",
    "        AIMessage(\n",
    "            role=\"function\",\n",
    "            additional_kwargs={\n",
    "                \"name\": second_response.additional_kwargs[\"function_call\"][\"name\"]\n",
    "            },\n",
    "            content=f\"Completed function {second_response.additional_kwargs['function_call']['name']}\",\n",
    "        ),\n",
    "    ],\n",
    "    functions=function_descriptions_multiple,\n",
    ")\n",
    "\n",
    "print(third_response)\n",
    "print(\"Aufgerufene Funktion: \" + third_response.additional_kwargs[\"function_call\"][\"name\"])\n"
   ]
  },
  {
   "cell_type": "markdown",
   "metadata": {},
   "source": [
    "Antwort in der Konversation"
   ]
  },
  {
   "cell_type": "code",
   "execution_count": 36,
   "metadata": {},
   "outputs": [
    {
     "name": "stdout",
     "output_type": "stream",
     "text": [
      "content='Vielen Dank für Ihre Anfrage, Noah. Ich habe den nächsten Flug von Düsseldorf nach New York für Sie recherchiert. Der Flug geht am 1. Januar 2023 um 12:00 Uhr mit der Fluggesellschaft Lufthansa. Ich habe den Flug auch für Sie gebucht.\\n\\nDes Weiteren habe ich Ihre Beschwerde über Ihren verpassten Flug eingereicht. Eine Kopie der Beschwerde wurde an Ihre E-Mail-Adresse noah@ye-d.de gesendet.\\n\\nVielen Dank für Ihre Geduld. Ich habe alle Schritte abgeschlossen.' additional_kwargs={} example=False\n"
     ]
    }
   ],
   "source": [
    "\n",
    "# Conversational reply at the end of requests\n",
    "\n",
    "fourth_response = llm.predict_messages(\n",
    "    [\n",
    "        HumanMessage(content=user_prompt),\n",
    "        AIMessage(content=str(first_response.additional_kwargs)),\n",
    "        AIMessage(content=str(second_response.additional_kwargs)),\n",
    "        AIMessage(content=str(third_response.additional_kwargs)),\n",
    "        AIMessage(\n",
    "            role=\"function\",\n",
    "            additional_kwargs={\n",
    "                \"name\": third_response.additional_kwargs[\"function_call\"][\"name\"]\n",
    "            },\n",
    "            content=f\"Completed function {third_response.additional_kwargs['function_call']['name']}\",\n",
    "        ),\n",
    "    ],\n",
    "    functions=function_descriptions_multiple,\n",
    ")\n",
    "\n",
    "#print(fourth_response)"
   ]
  },
  {
   "cell_type": "code",
   "execution_count": 37,
   "metadata": {},
   "outputs": [
    {
     "name": "stdout",
     "output_type": "stream",
     "text": [
      "Vielen Dank für Ihre Anfrage, Noah. Ich habe den nächsten Flug von Düsseldorf nach New York für Sie recherchiert. Der Flug geht am 1. Januar 2023 um 12:00 Uhr mit der Fluggesellschaft Lufthansa. Ich habe den Flug auch für Sie gebucht.\n",
      "\n",
      "Des Weiteren habe ich Ihre Beschwerde über Ihren verpassten Flug eingereicht. Eine Kopie der Beschwerde wurde an Ihre E-Mail-Adresse noah@ye-d.de gesendet.\n",
      "\n",
      "Vielen Dank für Ihre Geduld. Ich habe alle Schritte abgeschlossen.\n"
     ]
    }
   ],
   "source": [
    "print(fourth_response.content)"
   ]
  }
 ],
 "metadata": {
  "kernelspec": {
   "display_name": "Python 3",
   "language": "python",
   "name": "python3"
  },
  "language_info": {
   "codemirror_mode": {
    "name": "ipython",
    "version": 3
   },
   "file_extension": ".py",
   "mimetype": "text/x-python",
   "name": "python",
   "nbconvert_exporter": "python",
   "pygments_lexer": "ipython3",
   "version": "3.11.4"
  },
  "orig_nbformat": 4
 },
 "nbformat": 4,
 "nbformat_minor": 2
}
