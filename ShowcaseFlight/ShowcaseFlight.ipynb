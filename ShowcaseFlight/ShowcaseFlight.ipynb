{
 "cells": [
  {
   "cell_type": "markdown",
   "metadata": {},
   "source": [
    "# GPT3.5 Function Calling am Beispiel von einer Flugabfrage"
   ]
  },
  {
   "cell_type": "code",
   "execution_count": 2,
   "metadata": {},
   "outputs": [],
   "source": [
    "# --------------------------------------------------------------\n",
    "# Import Modules\n",
    "# --------------------------------------------------------------\n",
    "\n",
    "import os\n",
    "import json\n",
    "import openai\n",
    "from datetime import datetime, timedelta\n",
    "from dotenv import load_dotenv\n",
    "from langchain.chat_models import ChatOpenAI\n",
    "from langchain.schema import HumanMessage, AIMessage, ChatMessage\n",
    "\n"
   ]
  },
  {
   "cell_type": "code",
   "execution_count": 3,
   "metadata": {},
   "outputs": [],
   "source": [
    "\n",
    "# --------------------------------------------------------------\n",
    "# Load OpenAI API Token From the .env File\n",
    "# --------------------------------------------------------------\n",
    "\n",
    "load_dotenv()\n",
    "openai.api_key = os.getenv(\"OPENAI_API_KEY\")\n",
    "\n"
   ]
  },
  {
   "cell_type": "markdown",
   "metadata": {},
   "source": [
    "### Wie funktioniert GPT3.5 überhaupt normal im Code?"
   ]
  },
  {
   "cell_type": "code",
   "execution_count": 4,
   "metadata": {},
   "outputs": [
    {
     "name": "stdout",
     "output_type": "stream",
     "text": [
      "I'm sorry, but as an AI, I don't have real-time information on flight schedules. It would be best to check with airlines or travel websites for the most up-to-date flight information.\n"
     ]
    }
   ],
   "source": [
    "\n",
    "# --------------------------------------------------------------\n",
    "# Ask ChatGPT a Question\n",
    "# --------------------------------------------------------------\n",
    "\n",
    "completion = openai.ChatCompletion.create(\n",
    "    model=\"gpt-3.5-turbo-0613\",\n",
    "    messages=[\n",
    "        {\"role\": \"user\",\"content\": \"When is the next flight from Düsseldorf to New York?\",},\n",
    "    ],\n",
    ")\n",
    "\n",
    "output = completion.choices[0].message.content\n",
    "print(output)"
   ]
  },
  {
   "cell_type": "markdown",
   "metadata": {},
   "source": [
    "### Ein einfaches Function Calling Beispiel"
   ]
  },
  {
   "cell_type": "code",
   "execution_count": 18,
   "metadata": {},
   "outputs": [
    {
     "name": "stdout",
     "output_type": "stream",
     "text": [
      "{\n",
      "  \"role\": \"assistant\",\n",
      "  \"content\": null,\n",
      "  \"function_call\": {\n",
      "    \"name\": \"get_flight_info\",\n",
      "    \"arguments\": \"{\\n  \\\"loc_origin\\\": \\\"DUS\\\",\\n  \\\"loc_destination\\\": \\\"JFK\\\"\\n}\"\n",
      "  }\n",
      "}\n"
     ]
    }
   ],
   "source": [
    "function_descriptions = [\n",
    "    {\n",
    "        \"name\": \"get_flight_info\",\n",
    "        \"description\": \"Get flight information between two locations\",\n",
    "        \"parameters\": {\n",
    "            \"type\": \"object\",\n",
    "            \"properties\": {\n",
    "                \"loc_origin\": {\n",
    "                    \"type\": \"string\",\n",
    "                    \"description\": \"The departure airport abbreviation, e.g. DUS\",\n",
    "                },\n",
    "                \"loc_destination\": {\n",
    "                    \"type\": \"string\",\n",
    "                    \"description\": \"The destination airport abbreviation, e.g. HAM\",\n",
    "                },\n",
    "            },\n",
    "            \"required\": [\"loc_origin\", \"loc_destination\"],\n",
    "        },\n",
    "    }\n",
    "]\n",
    "\n",
    "user_prompt = \"When is the next flight from Düsseldorf to New York?\"\n",
    "\n",
    "completion = openai.ChatCompletion.create(\n",
    "    model=\"gpt-3.5-turbo-0613\",\n",
    "    messages=[{\"role\": \"user\", \"content\": user_prompt}],\n",
    "    functions=function_descriptions,  # Add function calling\n",
    "    function_call=\"auto\",\n",
    ")\n",
    "\n",
    "output = completion.choices[0].message\n",
    "print(output) # Was liefert uns GPT hier?  \n",
    "\n",
    "\n",
    "# -> Wir haben nie erwähnt wie der Flughafen in NewYork heißt"
   ]
  },
  {
   "cell_type": "code",
   "execution_count": 14,
   "metadata": {
    "tags": []
   },
   "outputs": [],
   "source": [
    "def get_flight_info(loc_origin, loc_destination):\n",
    "    \"\"\"Get flight information between two locations.\"\"\"\n",
    "\n",
    "    # Beispiel Ausgabe einer API oder Datenbank\n",
    "    flight_info = {\n",
    "        \"loc_origin\": loc_origin,\n",
    "        \"loc_destination\": loc_destination,\n",
    "        \"datetime\": str(datetime.now() + timedelta(hours=2)),\n",
    "        \"airline\": \"KLM\",\n",
    "        \"flight\": \"KL643\",\n",
    "    }\n",
    "\n",
    "    return json.dumps(flight_info)\n",
    "\n",
    "\n",
    "# Use the LLM output to manually call the function\n",
    "# The json.loads function converts the string to a Python object\n",
    "\n",
    "origin = json.loads(output.function_call.arguments).get(\"loc_origin\")\n",
    "destination = json.loads(output.function_call.arguments).get(\"loc_destination\")\n",
    "params = json.loads(output.function_call.arguments)\n",
    "\n"
   ]
  },
  {
   "cell_type": "markdown",
   "metadata": {},
   "source": [
    "Schauen wir uns die einzelnen Parameter an"
   ]
  },
  {
   "cell_type": "code",
   "execution_count": 15,
   "metadata": {},
   "outputs": [
    {
     "name": "stdout",
     "output_type": "stream",
     "text": [
      "DUS\n",
      "NYC\n",
      "{'loc_origin': 'DUS', 'loc_destination': 'NYC'}\n"
     ]
    }
   ],
   "source": [
    "print(origin)\n",
    "print(destination)\n",
    "print(params)"
   ]
  },
  {
   "cell_type": "code",
   "execution_count": 16,
   "metadata": {},
   "outputs": [
    {
     "name": "stdout",
     "output_type": "stream",
     "text": [
      "{\"loc_origin\": \"DUS\", \"loc_destination\": \"NYC\", \"datetime\": \"2023-09-28 16:05:24.853620\", \"airline\": \"KLM\", \"flight\": \"KL643\"}\n"
     ]
    }
   ],
   "source": [
    "# Rufe die von uns definierte Funktion mit Parametern auf\n",
    "chosen_function = eval(output.function_call.name)\n",
    "flight = chosen_function(**params)\n",
    "\n",
    "print(flight)\n"
   ]
  },
  {
   "cell_type": "markdown",
   "metadata": {},
   "source": [
    "Diesen Output unserer Funktion können wir nun unserem LLM geben, der dann daraus eine Antwort formuliert"
   ]
  },
  {
   "cell_type": "code",
   "execution_count": 17,
   "metadata": {},
   "outputs": [
    {
     "name": "stdout",
     "output_type": "stream",
     "text": [
      "The next flight from Düsseldorf (DUS) to New York (NYC) is on September 28, 2023, at 16:05. The airline is KLM and the flight number is KL643.\n"
     ]
    }
   ],
   "source": [
    "\n",
    "# --------------------------------------------------------------\n",
    "# Add function result to the prompt for a final answer\n",
    "# --------------------------------------------------------------\n",
    "\n",
    "# The key is to add the function output back to the messages with role: function\n",
    "second_completion = openai.ChatCompletion.create(\n",
    "    model=\"gpt-3.5-turbo-0613\",\n",
    "    messages=[\n",
    "        {\"role\": \"user\", \"content\": user_prompt},\n",
    "        {\"role\": \"function\", \"name\": output.function_call.name, \"content\": flight},\n",
    "    ],\n",
    "    functions=function_descriptions,\n",
    ")\n",
    "response = second_completion.choices[0].message.content\n",
    "print(response)\n"
   ]
  }
 ],
 "metadata": {
  "kernelspec": {
   "display_name": "Python 3",
   "language": "python",
   "name": "python3"
  },
  "language_info": {
   "codemirror_mode": {
    "name": "ipython",
    "version": 3
   },
   "file_extension": ".py",
   "mimetype": "text/x-python",
   "name": "python",
   "nbconvert_exporter": "python",
   "pygments_lexer": "ipython3",
   "version": "3.11.4"
  },
  "orig_nbformat": 4
 },
 "nbformat": 4,
 "nbformat_minor": 2
}
