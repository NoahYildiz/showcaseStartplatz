{
 "cells": [
  {
   "cell_type": "markdown",
   "metadata": {},
   "source": [
    "## GPT3.5 Function Calling am Beispiel von einer Flugabfrage mit mehreren Funktionen"
   ]
  },
  {
   "cell_type": "code",
   "execution_count": 2,
   "metadata": {},
   "outputs": [],
   "source": [
    "# --------------------------------------------------------------\n",
    "# Import Modules\n",
    "# --------------------------------------------------------------\n",
    "\n",
    "import os\n",
    "import json\n",
    "import openai\n",
    "from datetime import datetime, timedelta\n",
    "from dotenv import load_dotenv\n",
    "from langchain.chat_models import ChatOpenAI\n",
    "from langchain.schema import HumanMessage, AIMessage, ChatMessage\n",
    "\n"
   ]
  },
  {
   "cell_type": "code",
   "execution_count": 3,
   "metadata": {},
   "outputs": [],
   "source": [
    "\n",
    "# --------------------------------------------------------------\n",
    "# Load OpenAI API Token From the .env File\n",
    "# --------------------------------------------------------------\n",
    "\n",
    "load_dotenv()\n",
    "openai.api_key = os.getenv(\"OPENAI_API_KEY\")\n",
    "\n"
   ]
  },
  {
   "cell_type": "markdown",
   "metadata": {},
   "source": [
    "### Ein einfaches Function Calling Beispiel"
   ]
  },
  {
   "cell_type": "markdown",
   "metadata": {},
   "source": [
    "Julia ist die persönliche Assistenz von Noah <br>\n",
    "Niklas ist die persönliche Assistenz von Kaan"
   ]
  },
  {
   "cell_type": "code",
   "execution_count": 41,
   "metadata": {},
   "outputs": [],
   "source": [
    "# Hier nutzen wir 3 Funktionen\n",
    "function_description_Niklas = [\n",
    "    {\n",
    "        \"name\": \"askJulia\",\n",
    "        \"description\": \"Julia ist die persönliche Assistenz von Noah. Alle Informationen auf die du selber keinen Zugriff hast sollst du Julia Fragen.\",\n",
    "        \"parameters\": {\n",
    "            \"type\": \"object\",\n",
    "            \"properties\": {\n",
    "                \"prompt\": {\n",
    "                    \"type\": \"string\",\n",
    "                    \"description\": \"Deine Frage an Julia. Bedenke, dass Julia ein Sprachmodell von OpenAi ist. Schreibe also einen guten Prompt an Sie\",\n",
    "                },\n",
    "            },\n",
    "            \"required\": [\"prompt\"],\n",
    "        },\n",
    "    },\n",
    "    {\n",
    "        \"name\": \"getKalenderKaan\",\n",
    "        \"description\": \"Kriege alle Informationen ausschließlich von Kaans Kalender\",\n",
    "        \"parameters\": {\n",
    "            \"type\": \"object\",\n",
    "            \"properties\": {\n",
    "                \"datum\": {\n",
    "                    \"type\": \"string\",\n",
    "                    \"description\": \"Das Datum an dem geschaut werden soll, welche Termine es gibt. Das Datum soll im Format DD.MM.YYYY sein, also der 18.Dezember 2023 ist 18.12.2023\",\n",
    "                },\n",
    "            },\n",
    "            \"required\": [\"datum\"],\n",
    "        },\n",
    "    },\n",
    "]\n",
    "function_description_Julia = [\n",
    "    {\n",
    "        \"name\": \"askNiklas\",\n",
    "        \"description\": \"Niklas ist die persönliche Assistenz von Kaan. Wenn du Informationen über Kaan brauchst dann frag Niklas\",\n",
    "        \"parameters\": {\n",
    "            \"type\": \"object\",\n",
    "            \"properties\": {\n",
    "                \"prompt\": {\n",
    "                    \"type\": \"string\",\n",
    "                    \"description\": \"Deine Frage an Niklas über Kaan. Bedenke, dass Niklas ein Sprachmodell von OpenAi ist. Schreibe also einen guten Prompt an Sie \",\n",
    "                },\n",
    "            },\n",
    "            \"required\": [\"prompt\"],\n",
    "        },\n",
    "    },\n",
    "    {\n",
    "        \"name\": \"getKalenderNoah\",\n",
    "        \"description\": \"Kriege Informationen über Noahs Kalender. RUFE DIESE FUNKTION NUR FÜR NOAHS KALENDAR AUF\",\n",
    "        \"parameters\": {\n",
    "            \"type\": \"object\",\n",
    "            \"properties\": {\n",
    "                \"datum\": {\n",
    "                    \"type\": \"string\",\n",
    "                    \"description\": \"Das Datum an dem geschaut werden soll, ob Noah noch einen Termin frei hat. Das Datum soll im Format DD.MM.YYYY sein, also der 18.Dezember 2023 ist 18.12.2023\",\n",
    "                },\n",
    "            },\n",
    "            \"required\": [\"datum\"],\n",
    "        },\n",
    "    },\n",
    "]\n",
    "\n",
    "def askJulia(prompt):\n",
    "    llm = ChatOpenAI(model=\"gpt-3.5-turbo-0613\", temperature=0)\n",
    "    output = llm.predict_messages(\n",
    "        [HumanMessage(content=prompt)], functions=function_description_Julia\n",
    "    )\n",
    "\n",
    "    return output\n",
    "\n",
    "def getKalenderNoah(datum):\n",
    "    output = \"\"\n",
    "    if datum == \"30.12.2023\":\n",
    "        output = {\n",
    "            \"datum\": \"30.12.2023\",\n",
    "            \"termine\": \"Meeting beim Startplatz\"\n",
    "        }\n",
    "    else:\n",
    "        output = {\n",
    "            \"datum\": datum,\n",
    "            \"termine\": \"\"\n",
    "        }\n",
    "    return output\n",
    "\n",
    "def askNiklas(prompt):\n",
    "    llm = ChatOpenAI(model=\"gpt-3.5-turbo-0613\", temperature=0)\n",
    "    output = llm.predict_messages(\n",
    "        [HumanMessage(content=prompt)], functions=function_description_Niklas\n",
    "    )\n",
    "\n",
    "    return output\n",
    "\n",
    "\n",
    "def getKalenderKaan(datum):\n",
    "    output = \"\"\n",
    "    if datum == \"01.12.2023\":\n",
    "        output = {\n",
    "            \"datum\": \"01.12.2023\",\n",
    "            \"termine\": \"Meeting beim Startplatz\"\n",
    "        }\n",
    "    else:\n",
    "        output = {\n",
    "            \"datum\": datum,\n",
    "            \"termine\": \"\"\n",
    "        }\n",
    "    return output\n"
   ]
  },
  {
   "cell_type": "code",
   "execution_count": 39,
   "metadata": {},
   "outputs": [
    {
     "name": "stdout",
     "output_type": "stream",
     "text": [
      "Aufgerufene Funktion: askNiklas\n",
      "content='' additional_kwargs={'function_call': {'name': 'askNiklas', 'arguments': '{\\n  \"prompt\": \"Hat Kaan am 1.12.2023 einen Termin?\"\\n}'}} example=False\n"
     ]
    }
   ],
   "source": [
    "user_prompt = \"Hey Julia, hat Kaan am 1.12.2023 einen Termin?\"\n",
    "first_response_from_julia = askJulia(user_prompt)\n",
    "\n",
    "\n",
    "print(\"Aufgerufene Funktion: \" + first_response_from_julia.additional_kwargs[\"function_call\"][\"name\"])\n",
    "print(first_response_from_julia)\n",
    "chosen_function = eval(first_response_from_julia.additional_kwargs[\"function_call\"][\"name\"])\n",
    "params = json.loads(first_response_from_julia.additional_kwargs.get(\"function_call\").get(\"arguments\"))\n"
   ]
  },
  {
   "cell_type": "code",
   "execution_count": 43,
   "metadata": {},
   "outputs": [
    {
     "name": "stdout",
     "output_type": "stream",
     "text": [
      "content='' additional_kwargs={'function_call': {'name': 'getKalenderKaan', 'arguments': '{\\n  \"datum\": \"01.12.2023\"\\n}'}} example=False\n"
     ]
    }
   ],
   "source": [
    "response_niklas_first = chosen_function(**params)\n",
    "\n",
    "print(response_niklas_first)\n",
    "chosen_function = eval(response_niklas_first.additional_kwargs[\"function_call\"][\"name\"])"
   ]
  },
  {
   "cell_type": "code",
   "execution_count": 44,
   "metadata": {},
   "outputs": [
    {
     "name": "stdout",
     "output_type": "stream",
     "text": [
      "{'datum': '01.12.2023', 'termine': 'Meeting beim Startplatz'}\n"
     ]
    }
   ],
   "source": [
    "params = json.loads(response_niklas_first.additional_kwargs.get(\"function_call\").get(\"arguments\"))\n",
    "function_output = chosen_function(**params)\n",
    "print(function_output)"
   ]
  }
 ],
 "metadata": {
  "kernelspec": {
   "display_name": "Python 3",
   "language": "python",
   "name": "python3"
  },
  "language_info": {
   "codemirror_mode": {
    "name": "ipython",
    "version": 3
   },
   "file_extension": ".py",
   "mimetype": "text/x-python",
   "name": "python",
   "nbconvert_exporter": "python",
   "pygments_lexer": "ipython3",
   "version": "3.11.4"
  },
  "orig_nbformat": 4
 },
 "nbformat": 4,
 "nbformat_minor": 2
}
